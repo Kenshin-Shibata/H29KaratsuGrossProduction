{
  "nbformat": 4,
  "nbformat_minor": 0,
  "metadata": {
    "colab": {
      "name": "H29KaratsuGrossProduction.ipynb",
      "provenance": [],
      "collapsed_sections": [],
      "authorship_tag": "ABX9TyNlSfnY9iuoCUZPjAJib2T7",
      "include_colab_link": true
    },
    "kernelspec": {
      "name": "python3",
      "display_name": "Python 3"
    },
    "language_info": {
      "name": "python"
    }
  },
  "cells": [
    {
      "cell_type": "markdown",
      "metadata": {
        "id": "view-in-github",
        "colab_type": "text"
      },
      "source": [
        "<a href=\"https://colab.research.google.com/github/Kenshin-Shibata/H29KaratsuGrossProduction/blob/main/H29KaratsuGrossProduction.ipynb\" target=\"_parent\"><img src=\"https://colab.research.google.com/assets/colab-badge.svg\" alt=\"Open In Colab\"/></a>"
      ]
    },
    {
      "cell_type": "code",
      "metadata": {
        "colab": {
          "base_uri": "https://localhost:8080/"
        },
        "id": "a8IsbEElIwim",
        "outputId": "cd4e80a6-658d-4eaf-c672-204b57e5ec26"
      },
      "source": [
        "!pip install japanize-matplotlib"
      ],
      "execution_count": 104,
      "outputs": [
        {
          "output_type": "stream",
          "name": "stdout",
          "text": [
            "Requirement already satisfied: japanize-matplotlib in /usr/local/lib/python3.7/dist-packages (1.1.3)\n",
            "Requirement already satisfied: matplotlib in /usr/local/lib/python3.7/dist-packages (from japanize-matplotlib) (3.2.2)\n",
            "Requirement already satisfied: pyparsing!=2.0.4,!=2.1.2,!=2.1.6,>=2.0.1 in /usr/local/lib/python3.7/dist-packages (from matplotlib->japanize-matplotlib) (3.0.6)\n",
            "Requirement already satisfied: python-dateutil>=2.1 in /usr/local/lib/python3.7/dist-packages (from matplotlib->japanize-matplotlib) (2.8.2)\n",
            "Requirement already satisfied: numpy>=1.11 in /usr/local/lib/python3.7/dist-packages (from matplotlib->japanize-matplotlib) (1.19.5)\n",
            "Requirement already satisfied: kiwisolver>=1.0.1 in /usr/local/lib/python3.7/dist-packages (from matplotlib->japanize-matplotlib) (1.3.2)\n",
            "Requirement already satisfied: cycler>=0.10 in /usr/local/lib/python3.7/dist-packages (from matplotlib->japanize-matplotlib) (0.11.0)\n",
            "Requirement already satisfied: six>=1.5 in /usr/local/lib/python3.7/dist-packages (from python-dateutil>=2.1->matplotlib->japanize-matplotlib) (1.15.0)\n"
          ]
        }
      ]
    },
    {
      "cell_type": "code",
      "metadata": {
        "id": "cF0HpTLyI4pG"
      },
      "source": [
        "import matplotlib.pyplot as plt\n",
        "import japanize_matplotlib\n",
        "import pandas as pd\n",
        "from google.colab import files"
      ],
      "execution_count": 105,
      "outputs": []
    },
    {
      "cell_type": "code",
      "metadata": {
        "colab": {
          "base_uri": "https://localhost:8080/",
          "height": 614
        },
        "id": "YylaWu49I8_b",
        "outputId": "43aba9b6-a140-4e13-b3ab-bb6c6a1aa24f"
      },
      "source": [
        "# データフレームの生成\n",
        "df = pd.read_csv('h29-karatsu-gross-production.csv')\n",
        "\n",
        "# HTMLで表示(=display(df))\n",
        "df\n"
      ],
      "execution_count": 110,
      "outputs": [
        {
          "output_type": "execute_result",
          "data": {
            "text/html": [
              "<div>\n",
              "<style scoped>\n",
              "    .dataframe tbody tr th:only-of-type {\n",
              "        vertical-align: middle;\n",
              "    }\n",
              "\n",
              "    .dataframe tbody tr th {\n",
              "        vertical-align: top;\n",
              "    }\n",
              "\n",
              "    .dataframe thead th {\n",
              "        text-align: right;\n",
              "    }\n",
              "</style>\n",
              "<table border=\"1\" class=\"dataframe\">\n",
              "  <thead>\n",
              "    <tr style=\"text-align: right;\">\n",
              "      <th></th>\n",
              "      <th>経済活動別</th>\n",
              "      <th>実数</th>\n",
              "      <th>増加率</th>\n",
              "      <th>構成比</th>\n",
              "    </tr>\n",
              "  </thead>\n",
              "  <tbody>\n",
              "    <tr>\n",
              "      <th>0</th>\n",
              "      <td>1.農業</td>\n",
              "      <td>14572</td>\n",
              "      <td>△ 3.5</td>\n",
              "      <td>4.1</td>\n",
              "    </tr>\n",
              "    <tr>\n",
              "      <th>1</th>\n",
              "      <td>2.林業</td>\n",
              "      <td>520</td>\n",
              "      <td>0.6</td>\n",
              "      <td>0.1</td>\n",
              "    </tr>\n",
              "    <tr>\n",
              "      <th>2</th>\n",
              "      <td>3.水産業</td>\n",
              "      <td>1543</td>\n",
              "      <td>△ 15.4</td>\n",
              "      <td>0.4</td>\n",
              "    </tr>\n",
              "    <tr>\n",
              "      <th>3</th>\n",
              "      <td>4.鉱業</td>\n",
              "      <td>898</td>\n",
              "      <td>5.3</td>\n",
              "      <td>0.3</td>\n",
              "    </tr>\n",
              "    <tr>\n",
              "      <th>4</th>\n",
              "      <td>5.製造業</td>\n",
              "      <td>67758</td>\n",
              "      <td>△ 5.3</td>\n",
              "      <td>19.3</td>\n",
              "    </tr>\n",
              "    <tr>\n",
              "      <th>5</th>\n",
              "      <td>6.電気・ガス・水道・廃棄物処理業</td>\n",
              "      <td>9600</td>\n",
              "      <td>1.3</td>\n",
              "      <td>2.7</td>\n",
              "    </tr>\n",
              "    <tr>\n",
              "      <th>6</th>\n",
              "      <td>7.建設業</td>\n",
              "      <td>24245</td>\n",
              "      <td>10.4</td>\n",
              "      <td>6.9</td>\n",
              "    </tr>\n",
              "    <tr>\n",
              "      <th>7</th>\n",
              "      <td>8.卸売・小売業</td>\n",
              "      <td>35816</td>\n",
              "      <td>△ 1.1</td>\n",
              "      <td>10.2</td>\n",
              "    </tr>\n",
              "    <tr>\n",
              "      <th>8</th>\n",
              "      <td>9.運輸・郵便業</td>\n",
              "      <td>14802</td>\n",
              "      <td>5.6</td>\n",
              "      <td>4.2</td>\n",
              "    </tr>\n",
              "    <tr>\n",
              "      <th>9</th>\n",
              "      <td>10.宿泊・飲食サービス業</td>\n",
              "      <td>10955</td>\n",
              "      <td>1.3</td>\n",
              "      <td>3.1</td>\n",
              "    </tr>\n",
              "    <tr>\n",
              "      <th>10</th>\n",
              "      <td>11.情報通信業</td>\n",
              "      <td>9918</td>\n",
              "      <td>0.0</td>\n",
              "      <td>2.8</td>\n",
              "    </tr>\n",
              "    <tr>\n",
              "      <th>11</th>\n",
              "      <td>12.金融・保険業</td>\n",
              "      <td>11170</td>\n",
              "      <td>9.0</td>\n",
              "      <td>3.2</td>\n",
              "    </tr>\n",
              "    <tr>\n",
              "      <th>12</th>\n",
              "      <td>13.不動産業</td>\n",
              "      <td>35642</td>\n",
              "      <td>0.9</td>\n",
              "      <td>10.1</td>\n",
              "    </tr>\n",
              "    <tr>\n",
              "      <th>13</th>\n",
              "      <td>14.専門・科学技術、業務支援ｻｰﾋﾞｽ業</td>\n",
              "      <td>15817</td>\n",
              "      <td>2.7</td>\n",
              "      <td>4.5</td>\n",
              "    </tr>\n",
              "    <tr>\n",
              "      <th>14</th>\n",
              "      <td>15.公務</td>\n",
              "      <td>16441</td>\n",
              "      <td>△ 0.6</td>\n",
              "      <td>4.7</td>\n",
              "    </tr>\n",
              "    <tr>\n",
              "      <th>15</th>\n",
              "      <td>16.教育</td>\n",
              "      <td>21123</td>\n",
              "      <td>3.6</td>\n",
              "      <td>6.0</td>\n",
              "    </tr>\n",
              "    <tr>\n",
              "      <th>16</th>\n",
              "      <td>17.保健衛生・社会事業</td>\n",
              "      <td>43489</td>\n",
              "      <td>0.1</td>\n",
              "      <td>12.4</td>\n",
              "    </tr>\n",
              "    <tr>\n",
              "      <th>17</th>\n",
              "      <td>18.その他のサービス</td>\n",
              "      <td>15128</td>\n",
              "      <td>3.2</td>\n",
              "      <td>4.3</td>\n",
              "    </tr>\n",
              "  </tbody>\n",
              "</table>\n",
              "</div>"
            ],
            "text/plain": [
              "                    経済活動別     実数     増加率   構成比\n",
              "0                    1.農業  14572   △ 3.5   4.1\n",
              "1                    2.林業    520     0.6   0.1\n",
              "2                   3.水産業   1543  △ 15.4   0.4\n",
              "3                    4.鉱業    898     5.3   0.3\n",
              "4                   5.製造業  67758   △ 5.3  19.3\n",
              "5       6.電気・ガス・水道・廃棄物処理業   9600     1.3   2.7\n",
              "6                   7.建設業  24245    10.4   6.9\n",
              "7                8.卸売・小売業  35816   △ 1.1  10.2\n",
              "8                9.運輸・郵便業  14802     5.6   4.2\n",
              "9           10.宿泊・飲食サービス業  10955     1.3   3.1\n",
              "10               11.情報通信業   9918     0.0   2.8\n",
              "11              12.金融・保険業  11170     9.0   3.2\n",
              "12                13.不動産業  35642     0.9  10.1\n",
              "13  14.専門・科学技術、業務支援ｻｰﾋﾞｽ業  15817     2.7   4.5\n",
              "14                  15.公務  16441   △ 0.6   4.7\n",
              "15                  16.教育  21123     3.6   6.0\n",
              "16           17.保健衛生・社会事業  43489     0.1  12.4\n",
              "17            18.その他のサービス  15128     3.2   4.3"
            ]
          },
          "metadata": {},
          "execution_count": 110
        }
      ]
    },
    {
      "cell_type": "code",
      "metadata": {
        "colab": {
          "base_uri": "https://localhost:8080/"
        },
        "id": "vJIjfdxATIvY",
        "outputId": "8fd0ee06-fca4-44e3-a748-e61b99db3b5c"
      },
      "source": [
        "df['実数']\n",
        "# ここで、実数のデータ型がobjectなので、floatなりintに変換する"
      ],
      "execution_count": 107,
      "outputs": [
        {
          "output_type": "execute_result",
          "data": {
            "text/plain": [
              "0     14572\n",
              "1       520\n",
              "2      1543\n",
              "3       898\n",
              "4     67758\n",
              "5      9600\n",
              "6     24245\n",
              "7     35816\n",
              "8     14802\n",
              "9     10955\n",
              "10     9918\n",
              "11    11170\n",
              "12    35642\n",
              "13    15817\n",
              "14    16441\n",
              "15    21123\n",
              "16    43489\n",
              "17    15128\n",
              "Name: 実数, dtype: int64"
            ]
          },
          "metadata": {},
          "execution_count": 107
        }
      ]
    },
    {
      "cell_type": "code",
      "metadata": {
        "colab": {
          "base_uri": "https://localhost:8080/",
          "height": 673
        },
        "id": "ZvtC5ywuVHqq",
        "outputId": "3d646301-1526-4f3b-f2c9-fb29c760215b"
      },
      "source": [
        "result = df.plot.bar(x=\"経済活動別\", y=[\"実数\"], figsize=(11, 8))\n",
        "result.set_title('H29 経済活動別唐津市内総生産(引用：佐賀県統計分析課「市町民経済計算」) 単位]: 百万', loc='center')"
      ],
      "execution_count": 108,
      "outputs": [
        {
          "output_type": "execute_result",
          "data": {
            "text/plain": [
              "Text(0.5, 1.0, 'H29 経済活動別唐津市内総生産(引用：佐賀県統計分析課「市町民経済計算」) 単位]: 百万')"
            ]
          },
          "metadata": {},
          "execution_count": 108
        },
        {
          "output_type": "display_data",
          "data": {
            "image/png": "[encoded data removed]",
            "text/plain": [
              "<Figure size 792x576 with 1 Axes>"
            ]
          },
          "metadata": {
            "needs_background": "light"
          }
        }
      ]
    },
    {
      "cell_type": "code",
      "metadata": {
        "id": "WVToRXR-kvls"
      },
      "source": [
        "result.figure.savefig('test.png')"
      ],
      "execution_count": 109,
      "outputs": []
    }
  ]
}